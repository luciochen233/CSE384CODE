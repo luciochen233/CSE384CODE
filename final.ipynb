{
 "cells": [
  {
   "cell_type": "code",
   "execution_count": 2,
   "metadata": {},
   "outputs": [
    {
     "name": "stdout",
     "output_type": "stream",
     "text": [
      "username: lucio7654321\n",
      "Password:········\n",
      "Request return 429 error!\n",
      "{'message': 'Please wait a few minutes before you try again.', 'status': 'fail'}\n",
      "Request return 404 error!\n",
      "Login success!\n",
      "\n"
     ]
    },
    {
     "data": {
      "text/plain": [
       "True"
      ]
     },
     "execution_count": 2,
     "metadata": {},
     "output_type": "execute_result"
    }
   ],
   "source": [
    "import json\n",
    "import time\n",
    "import matplotlib.pyplot as plt\n",
    "from InstagramAPI import InstagramAPI\n",
    "from getpass import getpass\n",
    "username = input(\"username: \")\n",
    "InstagramAPI = InstagramAPI(username, getpass('Password:'))\n",
    "\n",
    "InstagramAPI.login()"
   ]
  },
  {
   "cell_type": "code",
   "execution_count": null,
   "metadata": {},
   "outputs": [],
   "source": [
    "InstagramAPI.getFollowingRecentActivity()\n",
    "recentAct = InstagramAPI.LastJson"
   ]
  },
  {
   "cell_type": "code",
   "execution_count": null,
   "metadata": {},
   "outputs": [],
   "source": [
    "#recentJson = json.dumps(recentAct)\n",
    "print(json.dumps(recentAct, indent=2))"
   ]
  },
  {
   "cell_type": "code",
   "execution_count": null,
   "metadata": {},
   "outputs": [],
   "source": [
    "def getPK(name):\n",
    "    if InstagramAPI.searchUsername(name):\n",
    "        Uname = InstagramAPI.LastJson\n",
    "        return (Uname['user']['pk'])"
   ]
  },
  {
   "cell_type": "code",
   "execution_count": null,
   "metadata": {},
   "outputs": [],
   "source": [
    "def getLikes(Json,accID):\n",
    "    #need dict from getFollowingRecentActivity() and \n",
    "    #account ID\n",
    "    if 'stories' not in Json:\n",
    "        return\n",
    "    post_list = []\n",
    "    for stories in Json['stories']:\n",
    "        if 'type' in stories and stories['type'] <= 2:\n",
    "            if 'args' in stories:\n",
    "                if stories['args']['profile_id'] == accID or accID == 0:\n",
    "                    print('\\n' + stories['args']['text'])\n",
    "                    for items in stories['args']['media']:\n",
    "                        post_list.append(items['id'])\n",
    "    return post_list"
   ]
  },
  {
   "cell_type": "code",
   "execution_count": null,
   "metadata": {},
   "outputs": [],
   "source": [
    "def getLikeCount(post_id):\n",
    "    if InstagramAPI.getMediaLikers(post_id):\n",
    "        temp = InstagramAPI.LastJson\n",
    "        return temp['user_count']\n",
    "    "
   ]
  },
  {
   "cell_type": "code",
   "execution_count": null,
   "metadata": {},
   "outputs": [],
   "source": [
    "post_list = getLikes(recentAct,getPK('ohsaraco'))"
   ]
  },
  {
   "cell_type": "code",
   "execution_count": null,
   "metadata": {},
   "outputs": [],
   "source": [
    "print(post_list)"
   ]
  },
  {
   "cell_type": "code",
   "execution_count": null,
   "metadata": {},
   "outputs": [],
   "source": [
    "getLikeCount('1967947505921734906_686564429')"
   ]
  },
  {
   "cell_type": "code",
   "execution_count": null,
   "metadata": {},
   "outputs": [],
   "source": [
    "def pyPlot(dataList):\n",
    "    x = 0\n",
    "    plt.figure()\n",
    "    for y in dataList:\n",
    "        plt.plot(x,y,'bo')\n",
    "        x = x+5\n",
    "    plt.show()"
   ]
  },
  {
   "cell_type": "code",
   "execution_count": null,
   "metadata": {},
   "outputs": [],
   "source": [
    "pyPlot(Numlist)"
   ]
  },
  {
   "cell_type": "code",
   "execution_count": null,
   "metadata": {},
   "outputs": [],
   "source": [
    "post_list = getLikes(recentAct,getPK('ohsaraco'))\n",
    "data = {}\n",
    "for post in post_list:\n",
    "    data[post] = []\n",
    "while 1:\n",
    "    for post in post_list:\n",
    "        data[post].append(getLikeCount(post))\n",
    "    time.sleep(30)"
   ]
  },
  {
   "cell_type": "code",
   "execution_count": null,
   "metadata": {},
   "outputs": [],
   "source": [
    "print(json.dumps(data,indent = 2))"
   ]
  },
  {
   "cell_type": "code",
   "execution_count": null,
   "metadata": {},
   "outputs": [],
   "source": []
  }
 ],
 "metadata": {
  "kernelspec": {
   "display_name": "Python 3",
   "language": "python",
   "name": "python3"
  },
  "language_info": {
   "codemirror_mode": {
    "name": "ipython",
    "version": 3
   },
   "file_extension": ".py",
   "mimetype": "text/x-python",
   "name": "python",
   "nbconvert_exporter": "python",
   "pygments_lexer": "ipython3",
   "version": "3.6.7"
  }
 },
 "nbformat": 4,
 "nbformat_minor": 2
}
